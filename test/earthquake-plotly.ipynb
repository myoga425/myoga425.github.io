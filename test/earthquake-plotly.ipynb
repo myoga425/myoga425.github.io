{
 "cells": [
  {
   "cell_type": "markdown",
   "metadata": {},
   "source": [
    "日本周辺の過去の震源分布を Python / Plotly で３次元表示するプログラムを作成しました。\n",
    "(データは USGS のサイトからダウンロードしたものを使用。)\n",
    "\n"
   ]
  },
  {
   "cell_type": "code",
   "execution_count": null,
   "metadata": {},
   "outputs": [],
   "source": [
    "## 日本周辺の震源分布を Python / Plotly で３次元表示 ##\n",
    "\n",
    "# データは USGS のサイトからCSV形式でダウンロードしてリネームしたものを読み込んでいる  \n",
    "# https://earthquake.usgs.gov/earthquakes/search/\n",
    "\n",
    "import numpy as np\n",
    "import plotly.graph_objs as go\n",
    "import plotly.offline as po\n",
    "import pandas as pd\n",
    "from mpl_toolkits.basemap import Basemap\n",
    "import matplotlib.pyplot as plt\n",
    "\n",
    "#深さごとに色を変えるためのカラーマップ\n",
    "colormap = plt.cm.jet_r(np.linspace(0, 1, 100))\n",
    "\n",
    "po.init_notebook_mode(connected=False)\n",
    "eye=dict(x=0, y=-1.1, z=1)\n",
    "\n",
    "# 範囲(緯度経度)\n",
    "north = 45.595\n",
    "south = 29.855\n",
    "east = 147.393\n",
    "west = 128.32\n",
    "\n",
    "#データ読み込み\n",
    "df = pd.read_csv('earthquake-1960-2010.csv')\n",
    "\n",
    "#データポイントの深さごとに色を決める\n",
    "z=df['depth']\n",
    "cd=np.int8(np.floor(z/np.max(z)*99))\n",
    "cm=colormap[cd]\n",
    "\n",
    "data=[] \n",
    "#データポイント\n",
    "data.append(go.Scatter3d(x=df[\"longitude\"], y=df[\"latitude\"], z=-df[\"depth\"], opacity=1 ,  # x軸,y軸,z軸を指定\n",
    "              mode=\"markers\", marker=dict(size=1.5**(df[\"mag\"]-4),color=cm)  ,line=dict(width=0.1,color='#ff2020')))\n",
    "#100kmごとに四角の枠を描く\n",
    "for i in range(7):\n",
    "    data.append(go.Scatter3d(x=[west,west,east,east,west], y=[north,south,south,north,north], z=-i*np.array([100,100,100,100,100]), opacity=0.2,\n",
    "            mode=\"lines\",line=dict(width=2,color='#404040')))\n",
    "#深さを表示\n",
    "data.append(go.Scatter3d(x=np.ones(7)*east, y=np.ones(7)*south, z=np.arange(0,-601,-100), opacity=1,\n",
    "            mode=\"text\",text=['0','100','200','300','400','500','600'],textposition='middle center'))\n",
    "# 地図\n",
    "m = Basemap(llcrnrlat=south,urcrnrlat=north, llcrnrlon=west,urcrnrlon=east,resolution='i')\n",
    "#海岸線の座標データ\n",
    "for pg in m.coastpolygons: \n",
    "    data.append(go.Scatter3d(x=pg[0], y=pg[1], z=np.array(pg[0])*0, opacity=0.3,\n",
    "                    mode=\"lines\",line=dict(width=5,color='#000060')))\n",
    "\n",
    "layout = go.Layout(\n",
    "        margin=dict(\n",
    "            l=0,r=0,b=0,t=0\n",
    "        ),\n",
    "        scene=dict(aspectmode='manual',aspectratio=dict(x=1,y=1,z=0.4),xaxis=dict(visible=False),yaxis=dict(visible=False),zaxis=dict(visible=False),\n",
    "                 camera = dict( up=dict(x=0, y=0, z=1),center=dict(x=0, y=0, z=0),eye=eye) ,hovermode=False),\n",
    "        showlegend=False\n",
    "    )\n",
    "\n",
    "fig = go.Figure(data=data, layout=layout)\n",
    "po.iplot(fig)   \n",
    "  "
   ]
  },
  {
   "cell_type": "code",
   "execution_count": null,
   "metadata": {
    "collapsed": true
   },
   "outputs": [],
   "source": []
  }
 ],
 "metadata": {
  "kernelspec": {
   "display_name": "Environment (conda_py36)",
   "language": "python",
   "name": "conda_py36"
  },
  "language_info": {
   "codemirror_mode": {
    "name": "ipython",
    "version": 3
   },
   "file_extension": ".py",
   "mimetype": "text/x-python",
   "name": "python",
   "nbconvert_exporter": "python",
   "pygments_lexer": "ipython3",
   "version": "3.6.8"
  }
 },
 "nbformat": 4,
 "nbformat_minor": 2
}
